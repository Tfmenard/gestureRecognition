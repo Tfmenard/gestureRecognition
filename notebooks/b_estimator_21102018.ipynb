{
 "cells": [
  {
   "cell_type": "markdown",
   "metadata": {
    "colab_type": "text",
    "id": "PtlFCkN4vuFg"
   },
   "source": [
    "<h1> Machine Learning using tf.estimator </h1>\n",
    "\n",
    "In this notebook, we will create a machine learning model using tf.estimator and evaluate its performance.  The dataset is rather small (7700 samples), so we can do it all in-memory.  We will also simply pass the raw data in as-is. "
   ]
  },
  {
   "cell_type": "code",
   "execution_count": 27,
   "metadata": {
    "colab": {},
    "colab_type": "code",
    "id": "7_FOBUeLvuFl"
   },
   "outputs": [
    {
     "name": "stdout",
     "output_type": "stream",
     "text": [
      "1.13.0-dev20181104\n"
     ]
    }
   ],
   "source": [
    "#import datalab.bigquery as bq\n",
    "import tensorflow as tf\n",
    "import pandas as pd\n",
    "import numpy as np\n",
    "import shutil\n",
    "\n",
    "print(tf.__version__)"
   ]
  },
  {
   "cell_type": "markdown",
   "metadata": {
    "colab_type": "text",
    "id": "JfCLlO3bvuFz"
   },
   "source": [
    "Read data created in the previous chapter."
   ]
  },
  {
   "cell_type": "code",
   "execution_count": 28,
   "metadata": {
    "colab": {},
    "colab_type": "code",
    "id": "O8ljaUqlvuF1"
   },
   "outputs": [
    {
     "name": "stdout",
     "output_type": "stream",
     "text": [
      "range(1, 201)\n",
      "['number', 'acc_1', 'acc_2', 'acc_3', 'acc_4', 'acc_5', 'acc_6', 'acc_7', 'acc_8', 'acc_9', 'acc_10', 'acc_11', 'acc_12', 'acc_13', 'acc_14', 'acc_15', 'acc_16', 'acc_17', 'acc_18', 'acc_19', 'acc_20', 'acc_21', 'acc_22', 'acc_23', 'acc_24', 'acc_25', 'acc_26', 'acc_27', 'acc_28', 'acc_29', 'acc_30', 'acc_31', 'acc_32', 'acc_33', 'acc_34', 'acc_35', 'acc_36', 'acc_37', 'acc_38', 'acc_39', 'acc_40', 'acc_41', 'acc_42', 'acc_43', 'acc_44', 'acc_45', 'acc_46', 'acc_47', 'acc_48', 'acc_49', 'acc_50', 'acc_51', 'acc_52', 'acc_53', 'acc_54', 'acc_55', 'acc_56', 'acc_57', 'acc_58', 'acc_59', 'acc_60', 'acc_61', 'acc_62', 'acc_63', 'acc_64', 'acc_65', 'acc_66', 'acc_67', 'acc_68', 'acc_69', 'acc_70', 'acc_71', 'acc_72', 'acc_73', 'acc_74', 'acc_75', 'acc_76', 'acc_77', 'acc_78', 'acc_79', 'acc_80', 'acc_81', 'acc_82', 'acc_83', 'acc_84', 'acc_85', 'acc_86', 'acc_87', 'acc_88', 'acc_89', 'acc_90', 'acc_91', 'acc_92', 'acc_93', 'acc_94', 'acc_95', 'acc_96', 'acc_97', 'acc_98', 'acc_99', 'acc_100', 'acc_101', 'acc_102', 'acc_103', 'acc_104', 'acc_105', 'acc_106', 'acc_107', 'acc_108', 'acc_109', 'acc_110', 'acc_111', 'acc_112', 'acc_113', 'acc_114', 'acc_115', 'acc_116', 'acc_117', 'acc_118', 'acc_119', 'acc_120', 'acc_121', 'acc_122', 'acc_123', 'acc_124', 'acc_125', 'acc_126', 'acc_127', 'acc_128', 'acc_129', 'acc_130', 'acc_131', 'acc_132', 'acc_133', 'acc_134', 'acc_135', 'acc_136', 'acc_137', 'acc_138', 'acc_139', 'acc_140', 'acc_141', 'acc_142', 'acc_143', 'acc_144', 'acc_145', 'acc_146', 'acc_147', 'acc_148', 'acc_149', 'acc_150', 'acc_151', 'acc_152', 'acc_153', 'acc_154', 'acc_155', 'acc_156', 'acc_157', 'acc_158', 'acc_159', 'acc_160', 'acc_161', 'acc_162', 'acc_163', 'acc_164', 'acc_165', 'acc_166', 'acc_167', 'acc_168', 'acc_169', 'acc_170', 'acc_171', 'acc_172', 'acc_173', 'acc_174', 'acc_175', 'acc_176', 'acc_177', 'acc_178', 'acc_179', 'acc_180', 'acc_181', 'acc_182', 'acc_183', 'acc_184', 'acc_185', 'acc_186', 'acc_187', 'acc_188', 'acc_189', 'acc_190', 'acc_191', 'acc_192', 'acc_193', 'acc_194', 'acc_195', 'acc_196', 'acc_197', 'acc_198', 'acc_199', 'acc_200']\n"
     ]
    }
   ],
   "source": [
    "# In CSV, label is the first column, after the features, followed by the key\n",
    "df_full_ds = pd.read_csv('./inputs_n_targets.csv')\n",
    "\n",
    "df_full_ds_shuffled = df_full_ds.sample(frac=1)\n",
    "trainsize = int(df_full_ds_shuffled.shape[0] * 0.7)\n",
    "validsize = int(df_full_ds_shuffled.shape[0] * 0.15)\n",
    "testsize = int(df_full_ds_shuffled.shape[0] * 0.15)\n",
    "\n",
    "LABEL_COLUMN = 0\n",
    "LABELS_CAT = [0, 1, 2 ,3 ,4 ,5 ,6, 7, 8 ,9]\n",
    "num_features = 200\n",
    "FEATURES = range(1, num_features+1)\n",
    "\n",
    "FEATURES_LABELS = [\"acc_\"+str(k) for k in FEATURES]\n",
    "\n",
    "CSV_COLUMNS = [\"number\"] + FEATURES_LABELS\n",
    "LABEL = \"number\"\n",
    "\n",
    "df_train = df_full_ds_shuffled.iloc[:trainsize, :]\n",
    "df_valid = df_full_ds_shuffled.iloc[trainsize:(trainsize+validsize), :]\n",
    "df_test = df_full_ds_shuffled.iloc[validsize:(validsize+testsize), :]\n",
    "\n",
    "def to_csv(df, filename):\n",
    "  outdf = df.copy(deep=False)\n",
    "  outdf.loc[:, 'key'] = np.arange(0, len(outdf)) # rownumber as key\n",
    "  # reorder columns so that target is first column\n",
    "  cols = outdf.columns.tolist()\n",
    "  #cols.remove('fare_amount')\n",
    "  #cols.insert(0, 'fare_amount')\n",
    "  #print (cols)  # new order of columns\n",
    "  outdf = outdf[cols]\n",
    "  outdf.to_csv(filename, header=False, index_label=False, index=False)\n",
    "\n",
    "def to_csv_with_headers(df, filename):\n",
    "  outdf = df.copy(deep=False)\n",
    "  #outdf.loc[:, 'key'] = np.arange(0, len(outdf)) # rownumber as key\n",
    "  # reorder columns so that target is first column\n",
    "  cols = outdf.columns.tolist()\n",
    "  #cols.remove('fare_amount')\n",
    "  #cols.insert(0, 'fare_amount')\n",
    "  #print (cols)  # new order of columns\n",
    "  outdf = outdf[cols]\n",
    "  outdf.to_csv(filename, header=True, index_label=CSV_COLUMNS, index=False)\n",
    "\n",
    "to_csv(df_train, 'acc-train.csv')\n",
    "to_csv(df_valid, 'acc-valid.csv')\n",
    "to_csv(df_test, 'acc-test.csv')\n",
    "\n",
    "to_csv_with_headers(df_train, 'acc-train_labeled.csv')\n",
    "to_csv_with_headers(df_valid, 'acc-valid_labeled.csv')\n",
    "to_csv_with_headers(df_test, 'acc-test_labeled.csv')\n",
    "\n",
    "\n",
    "print(FEATURES)\n",
    "print(CSV_COLUMNS)\n",
    "#df_full_ds.describe()\n",
    "#print(df_full_ds)\n",
    "#print(df_full_ds_shuffled)\n",
    "#df_full_ds_shuffled.describe()\n",
    "#df_train = pd.read_csv('./taxi-train.csv', header = None, names = CSV_COLUMNS)\n",
    "#df_valid = pd.read_csv('./taxi-valid.csv', header = None, names = CSV_COLUMNS)"
   ]
  },
  {
   "cell_type": "code",
   "execution_count": 19,
   "metadata": {
    "scrolled": false
   },
   "outputs": [
    {
     "name": "stdout",
     "output_type": "stream",
     "text": [
      "0      3\n",
      "1      3\n",
      "2      4\n",
      "3      2\n",
      "4      1\n",
      "5      8\n",
      "6      8\n",
      "7      3\n",
      "8      3\n",
      "9      8\n",
      "10     9\n",
      "11     2\n",
      "12     7\n",
      "13     1\n",
      "14     4\n",
      "15     6\n",
      "16     5\n",
      "17     1\n",
      "18     0\n",
      "19     8\n",
      "20     0\n",
      "21     9\n",
      "22     9\n",
      "23     9\n",
      "24     0\n",
      "25     0\n",
      "26     3\n",
      "27     4\n",
      "28     2\n",
      "29     6\n",
      "      ..\n",
      "320    0\n",
      "321    0\n",
      "322    1\n",
      "323    6\n",
      "324    7\n",
      "325    5\n",
      "326    6\n",
      "327    7\n",
      "328    0\n",
      "329    4\n",
      "330    7\n",
      "331    0\n",
      "332    4\n",
      "333    9\n",
      "334    3\n",
      "335    6\n",
      "336    7\n",
      "337    3\n",
      "338    7\n",
      "339    8\n",
      "340    6\n",
      "341    0\n",
      "342    4\n",
      "343    8\n",
      "344    1\n",
      "345    3\n",
      "346    3\n",
      "347    9\n",
      "348    7\n",
      "349    8\n",
      "Name: number, Length: 350, dtype: int64\n"
     ]
    }
   ],
   "source": [
    "df_train = pd.read_csv('acc-train.csv', header=None, names=CSV_COLUMNS)\n",
    "df_valid = pd.read_csv('acc-valid.csv', header=None, names=CSV_COLUMNS)\n",
    "df_test = pd.read_csv('acc-test.csv', header=None, names=CSV_COLUMNS)\n",
    "\n",
    "df_train_labeled = pd.read_csv('acc-train_labeled.csv', header=None, names=CSV_COLUMNS, skiprows=1)\n",
    "df_valid_labeled = pd.read_csv('acc-valid_labeled.csv', header=None, names=CSV_COLUMNS, skiprows=1)\n",
    "df_test_labeled = pd.read_csv('acc-test_labeled.csv', header=None, names=CSV_COLUMNS, skiprows=1)\n",
    "#df_test_labeled.describe()\n",
    "print(df_train_labeled[LABEL])"
   ]
  },
  {
   "cell_type": "markdown",
   "metadata": {
    "colab_type": "text",
    "id": "cXoJWJajvuGA"
   },
   "source": [
    "<h2> Input function to read from Pandas Dataframe into tf.constant </h2>"
   ]
  },
  {
   "cell_type": "code",
   "execution_count": 29,
   "metadata": {
    "colab": {},
    "colab_type": "code",
    "id": "198EJ8pXvuGD"
   },
   "outputs": [],
   "source": [
    "def make_input_fn(df, num_epochs):\n",
    "  return tf.estimator.inputs.pandas_input_fn(\n",
    "    x = df[FEATURES_LABELS],\n",
    "    y = df[LABEL],\n",
    "    batch_size = 200,\n",
    "    num_epochs = num_epochs,\n",
    "    shuffle = True,\n",
    "    queue_capacity = 1000,\n",
    "    num_threads = 1\n",
    "  )\n",
    "\n",
    "\n",
    "\n"
   ]
  },
  {
   "cell_type": "markdown",
   "metadata": {
    "colab_type": "text",
    "id": "HoUyyuAFvuGN"
   },
   "source": [
    "### Create feature columns for estimator"
   ]
  },
  {
   "cell_type": "code",
   "execution_count": 30,
   "metadata": {
    "colab": {},
    "colab_type": "code",
    "id": "MjNQAJgOvuGP"
   },
   "outputs": [],
   "source": [
    "def make_feature_cols():\n",
    "  input_columns = [tf.feature_column.numeric_column(k) for k in FEATURES_LABELS]\n",
    "  return input_columns"
   ]
  },
  {
   "cell_type": "markdown",
   "metadata": {
    "colab_type": "text",
    "id": "VAzSGrynvuGU"
   },
   "source": [
    "<h3> Linear Regression with tf.Estimator framework </h3>"
   ]
  },
  {
   "cell_type": "code",
   "execution_count": 31,
   "metadata": {
    "colab": {},
    "colab_type": "code",
    "id": "1v3TAvpRvuGX"
   },
   "outputs": [],
   "source": [
    "tf.logging.set_verbosity(tf.logging.INFO)\n",
    "\n",
    "OUTDIR = 'acc_trained'\n",
    "shutil.rmtree(OUTDIR, ignore_errors = True) # start fresh each time\n",
    "\n",
    "#model = tf.estimator.LinearRegressor(\n",
    "  #    feature_columns = make_feature_cols(), model_dir = OUTDIR)\n",
    "\n",
    "#model.train(input_fn = make_input_fn(df_train, num_epochs = 10))"
   ]
  },
  {
   "cell_type": "markdown",
   "metadata": {
    "colab_type": "text",
    "id": "EF3KwYcRvuGh"
   },
   "source": [
    "Evaluate on the validation data (we should defer using the test data to after we have selected a final model)."
   ]
  },
  {
   "cell_type": "code",
   "execution_count": 23,
   "metadata": {
    "colab": {},
    "colab_type": "code",
    "id": "l9enVnMKvuGk"
   },
   "outputs": [
    {
     "ename": "NameError",
     "evalue": "name 'model' is not defined",
     "output_type": "error",
     "traceback": [
      "\u001b[0;31m---------------------------------------------------------------------------\u001b[0m",
      "\u001b[0;31mNameError\u001b[0m                                 Traceback (most recent call last)",
      "\u001b[0;32m<ipython-input-23-c25631e57685>\u001b[0m in \u001b[0;36m<module>\u001b[0;34m\u001b[0m\n\u001b[1;32m      2\u001b[0m   \u001b[0mmetrics\u001b[0m \u001b[0;34m=\u001b[0m \u001b[0mmodel\u001b[0m\u001b[0;34m.\u001b[0m\u001b[0mevaluate\u001b[0m\u001b[0;34m(\u001b[0m\u001b[0minput_fn\u001b[0m \u001b[0;34m=\u001b[0m \u001b[0mmake_input_fn\u001b[0m\u001b[0;34m(\u001b[0m\u001b[0mdf\u001b[0m\u001b[0;34m,\u001b[0m \u001b[0;36m1\u001b[0m\u001b[0;34m)\u001b[0m\u001b[0;34m)\u001b[0m\u001b[0;34m\u001b[0m\u001b[0m\n\u001b[1;32m      3\u001b[0m   \u001b[0mprint\u001b[0m\u001b[0;34m(\u001b[0m\u001b[0;34m'RMSE on {} dataset = {}'\u001b[0m\u001b[0;34m.\u001b[0m\u001b[0mformat\u001b[0m\u001b[0;34m(\u001b[0m\u001b[0mname\u001b[0m\u001b[0;34m,\u001b[0m \u001b[0mnp\u001b[0m\u001b[0;34m.\u001b[0m\u001b[0msqrt\u001b[0m\u001b[0;34m(\u001b[0m\u001b[0mmetrics\u001b[0m\u001b[0;34m[\u001b[0m\u001b[0;34m'average_loss'\u001b[0m\u001b[0;34m]\u001b[0m\u001b[0;34m)\u001b[0m\u001b[0;34m)\u001b[0m\u001b[0;34m)\u001b[0m\u001b[0;34m\u001b[0m\u001b[0m\n\u001b[0;32m----> 4\u001b[0;31m \u001b[0mprint_rmse\u001b[0m\u001b[0;34m(\u001b[0m\u001b[0mmodel\u001b[0m\u001b[0;34m,\u001b[0m \u001b[0;34m'validation'\u001b[0m\u001b[0;34m,\u001b[0m \u001b[0mdf_valid\u001b[0m\u001b[0;34m)\u001b[0m\u001b[0;34m\u001b[0m\u001b[0m\n\u001b[0m",
      "\u001b[0;31mNameError\u001b[0m: name 'model' is not defined"
     ]
    }
   ],
   "source": [
    "def print_rmse(model, name, df):\n",
    "  metrics = model.evaluate(input_fn = make_input_fn(df, 1))\n",
    "  print('RMSE on {} dataset = {}'.format(name, np.sqrt(metrics['average_loss'])))\n",
    "print_rmse(model, 'validation', df_valid)"
   ]
  },
  {
   "cell_type": "markdown",
   "metadata": {
    "colab_type": "text",
    "id": "0KL3oppUvuGu"
   },
   "source": [
    "This is nowhere near our benchmark (RMSE of $6 or so on this data), but it serves to demonstrate what TensorFlow code looks like.  Let's use this model for prediction."
   ]
  },
  {
   "cell_type": "code",
   "execution_count": 32,
   "metadata": {
    "colab": {},
    "colab_type": "code",
    "id": "qJiDEEH7vuGy"
   },
   "outputs": [],
   "source": [
    "import itertools\n",
    "# Read saved model and use it for prediction\n",
    "#model = tf.estimator.LinearRegressor(\n",
    " #     feature_columns = make_feature_cols(), model_dir = OUTDIR)\n",
    "#preds_iter = model.predict(input_fn = make_input_fn(df_valid, 1))\n",
    "#print([pred['predictions'][0] for pred in list(itertools.islice(preds_iter, 5))])"
   ]
  },
  {
   "cell_type": "markdown",
   "metadata": {
    "colab_type": "text",
    "id": "8tTkJI_tvuG8"
   },
   "source": [
    "This explains why the RMSE was so high -- the model essentially predicts the same amount for every trip.  Would a more complex model help? Let's try using a deep neural network.  The code to do this is quite straightforward as well."
   ]
  },
  {
   "cell_type": "markdown",
   "metadata": {
    "colab_type": "text",
    "id": "pfZdl_UXvuHC"
   },
   "source": [
    "<h3> Deep Neural Network regression </h3>"
   ]
  },
  {
   "cell_type": "code",
   "execution_count": 33,
   "metadata": {
    "colab": {},
    "colab_type": "code",
    "id": "-z1u6I6gvuHE",
    "scrolled": false
   },
   "outputs": [
    {
     "name": "stdout",
     "output_type": "stream",
     "text": [
      "INFO:tensorflow:Using default config.\n",
      "INFO:tensorflow:Using config: {'_task_type': 'worker', '_num_ps_replicas': 0, '_cluster_spec': <tensorflow.python.training.server_lib.ClusterSpec object at 0x7fd3754c10f0>, '_num_worker_replicas': 1, '_task_id': 0, '_session_config': allow_soft_placement: true\n",
      "graph_options {\n",
      "  rewrite_options {\n",
      "    meta_optimizer_iterations: ONE\n",
      "  }\n",
      "}\n",
      ", '_global_id_in_cluster': 0, '_keep_checkpoint_max': 5, '_tf_random_seed': None, '_evaluation_master': '', '_experimental_distribute': None, '_save_summary_steps': 100, '_save_checkpoints_secs': 600, '_train_distribute': None, '_model_dir': 'acc_trained', '_is_chief': True, '_protocol': None, '_keep_checkpoint_every_n_hours': 10000, '_eval_distribute': None, '_device_fn': None, '_service': None, '_log_step_count_steps': 100, '_master': '', '_save_checkpoints_steps': None}\n"
     ]
    }
   ],
   "source": [
    "\n",
    "\n",
    "tf.logging.set_verbosity(tf.logging.INFO)\n",
    "shutil.rmtree(OUTDIR, ignore_errors = True) # start fresh each time\n",
    "model = tf.estimator.DNNClassifier(hidden_units = [25],\n",
    "      feature_columns = make_feature_cols(), model_dir = OUTDIR, n_classes=10)\n"
   ]
  },
  {
   "cell_type": "code",
   "execution_count": null,
   "metadata": {},
   "outputs": [],
   "source": [
    "model.train(input_fn = make_input_fn(df_train_labeled, num_epochs = 5000));\n",
    "print_rmse(model, 'validation', df_valid_labeled)\n"
   ]
  },
  {
   "cell_type": "markdown",
   "metadata": {
    "colab_type": "text",
    "id": "VR5Dvlw6vuHI"
   },
   "source": [
    "We are not beating our benchmark with either model ... what's up?  Well, we may be using TensorFlow for Machine Learning, but we are not yet using it well.  That's what the rest of this course is about!\n",
    "\n",
    "But, for the record, let's say we had to choose between the two models. We'd choose the one with the lower validation error. Finally, we'd measure the RMSE on the test data with this chosen model."
   ]
  },
  {
   "cell_type": "code",
   "execution_count": 42,
   "metadata": {},
   "outputs": [
    {
     "name": "stdout",
     "output_type": "stream",
     "text": [
      "INFO:tensorflow:Calling model_fn.\n",
      "INFO:tensorflow:Done calling model_fn.\n",
      "WARNING:tensorflow:From /usr/local/lib/python3.5/dist-packages/tensorflow/python/saved_model/signature_def_utils_impl.py:204: build_tensor_info (from tensorflow.python.saved_model.utils_impl) is deprecated and will be removed in a future version.\n",
      "Instructions for updating:\n",
      "This function will only be available through the v1 compatibility library as tf.compat.v1.saved_model.utils.build_tensor_info or tf.compat.v1.saved_model.build_tensor_info.\n",
      "INFO:tensorflow:Signatures INCLUDED in export for Classify: None\n",
      "INFO:tensorflow:Signatures INCLUDED in export for Predict: ['predict']\n",
      "INFO:tensorflow:Signatures INCLUDED in export for Eval: None\n",
      "INFO:tensorflow:Signatures INCLUDED in export for Regress: None\n",
      "INFO:tensorflow:Signatures INCLUDED in export for Train: None\n",
      "INFO:tensorflow:Signatures EXCLUDED from export because they cannot be be served via TensorFlow Serving APIs:\n",
      "INFO:tensorflow:'classification' : Classification input must be a single string Tensor; got {'acc_117': <tf.Tensor 'Placeholder_116:0' shape=(?,) dtype=int16>, 'acc_179': <tf.Tensor 'Placeholder_178:0' shape=(?,) dtype=int16>, 'acc_186': <tf.Tensor 'Placeholder_185:0' shape=(?,) dtype=int16>, 'acc_42': <tf.Tensor 'Placeholder_41:0' shape=(?,) dtype=int16>, 'acc_39': <tf.Tensor 'Placeholder_38:0' shape=(?,) dtype=int16>, 'acc_77': <tf.Tensor 'Placeholder_76:0' shape=(?,) dtype=int16>, 'acc_123': <tf.Tensor 'Placeholder_122:0' shape=(?,) dtype=int16>, 'acc_180': <tf.Tensor 'Placeholder_179:0' shape=(?,) dtype=int16>, 'acc_92': <tf.Tensor 'Placeholder_91:0' shape=(?,) dtype=int16>, 'acc_52': <tf.Tensor 'Placeholder_51:0' shape=(?,) dtype=int16>, 'acc_47': <tf.Tensor 'Placeholder_46:0' shape=(?,) dtype=int16>, 'acc_111': <tf.Tensor 'Placeholder_110:0' shape=(?,) dtype=int16>, 'acc_45': <tf.Tensor 'Placeholder_44:0' shape=(?,) dtype=int16>, 'acc_107': <tf.Tensor 'Placeholder_106:0' shape=(?,) dtype=int16>, 'acc_15': <tf.Tensor 'Placeholder_14:0' shape=(?,) dtype=int16>, 'acc_178': <tf.Tensor 'Placeholder_177:0' shape=(?,) dtype=int16>, 'acc_87': <tf.Tensor 'Placeholder_86:0' shape=(?,) dtype=int16>, 'acc_189': <tf.Tensor 'Placeholder_188:0' shape=(?,) dtype=int16>, 'acc_64': <tf.Tensor 'Placeholder_63:0' shape=(?,) dtype=int16>, 'acc_183': <tf.Tensor 'Placeholder_182:0' shape=(?,) dtype=int16>, 'acc_160': <tf.Tensor 'Placeholder_159:0' shape=(?,) dtype=int16>, 'acc_181': <tf.Tensor 'Placeholder_180:0' shape=(?,) dtype=int16>, 'acc_98': <tf.Tensor 'Placeholder_97:0' shape=(?,) dtype=int16>, 'acc_67': <tf.Tensor 'Placeholder_66:0' shape=(?,) dtype=int16>, 'acc_20': <tf.Tensor 'Placeholder_19:0' shape=(?,) dtype=int16>, 'acc_112': <tf.Tensor 'Placeholder_111:0' shape=(?,) dtype=int16>, 'acc_23': <tf.Tensor 'Placeholder_22:0' shape=(?,) dtype=int16>, 'acc_121': <tf.Tensor 'Placeholder_120:0' shape=(?,) dtype=int16>, 'acc_70': <tf.Tensor 'Placeholder_69:0' shape=(?,) dtype=int16>, 'acc_173': <tf.Tensor 'Placeholder_172:0' shape=(?,) dtype=int16>, 'acc_35': <tf.Tensor 'Placeholder_34:0' shape=(?,) dtype=int16>, 'acc_148': <tf.Tensor 'Placeholder_147:0' shape=(?,) dtype=int16>, 'acc_36': <tf.Tensor 'Placeholder_35:0' shape=(?,) dtype=int16>, 'acc_95': <tf.Tensor 'Placeholder_94:0' shape=(?,) dtype=int16>, 'acc_138': <tf.Tensor 'Placeholder_137:0' shape=(?,) dtype=int16>, 'acc_73': <tf.Tensor 'Placeholder_72:0' shape=(?,) dtype=int16>, 'acc_16': <tf.Tensor 'Placeholder_15:0' shape=(?,) dtype=int16>, 'acc_25': <tf.Tensor 'Placeholder_24:0' shape=(?,) dtype=int16>, 'acc_132': <tf.Tensor 'Placeholder_131:0' shape=(?,) dtype=int16>, 'acc_76': <tf.Tensor 'Placeholder_75:0' shape=(?,) dtype=int16>, 'acc_38': <tf.Tensor 'Placeholder_37:0' shape=(?,) dtype=int16>, 'acc_184': <tf.Tensor 'Placeholder_183:0' shape=(?,) dtype=int16>, 'acc_30': <tf.Tensor 'Placeholder_29:0' shape=(?,) dtype=int16>, 'acc_4': <tf.Tensor 'Placeholder_3:0' shape=(?,) dtype=int16>, 'acc_99': <tf.Tensor 'Placeholder_98:0' shape=(?,) dtype=int16>, 'acc_84': <tf.Tensor 'Placeholder_83:0' shape=(?,) dtype=int16>, 'acc_50': <tf.Tensor 'Placeholder_49:0' shape=(?,) dtype=int16>, 'acc_78': <tf.Tensor 'Placeholder_77:0' shape=(?,) dtype=int16>, 'acc_119': <tf.Tensor 'Placeholder_118:0' shape=(?,) dtype=int16>, 'acc_182': <tf.Tensor 'Placeholder_181:0' shape=(?,) dtype=int16>, 'acc_90': <tf.Tensor 'Placeholder_89:0' shape=(?,) dtype=int16>, 'acc_88': <tf.Tensor 'Placeholder_87:0' shape=(?,) dtype=int16>, 'acc_28': <tf.Tensor 'Placeholder_27:0' shape=(?,) dtype=int16>, 'acc_7': <tf.Tensor 'Placeholder_6:0' shape=(?,) dtype=int16>, 'acc_80': <tf.Tensor 'Placeholder_79:0' shape=(?,) dtype=int16>, 'acc_97': <tf.Tensor 'Placeholder_96:0' shape=(?,) dtype=int16>, 'acc_54': <tf.Tensor 'Placeholder_53:0' shape=(?,) dtype=int16>, 'acc_193': <tf.Tensor 'Placeholder_192:0' shape=(?,) dtype=int16>, 'acc_27': <tf.Tensor 'Placeholder_26:0' shape=(?,) dtype=int16>, 'acc_200': <tf.Tensor 'Placeholder_199:0' shape=(?,) dtype=int16>, 'acc_174': <tf.Tensor 'Placeholder_173:0' shape=(?,) dtype=int16>, 'acc_142': <tf.Tensor 'Placeholder_141:0' shape=(?,) dtype=int16>, 'acc_66': <tf.Tensor 'Placeholder_65:0' shape=(?,) dtype=int16>, 'acc_139': <tf.Tensor 'Placeholder_138:0' shape=(?,) dtype=int16>, 'acc_151': <tf.Tensor 'Placeholder_150:0' shape=(?,) dtype=int16>, 'acc_143': <tf.Tensor 'Placeholder_142:0' shape=(?,) dtype=int16>, 'acc_58': <tf.Tensor 'Placeholder_57:0' shape=(?,) dtype=int16>, 'acc_194': <tf.Tensor 'Placeholder_193:0' shape=(?,) dtype=int16>, 'acc_91': <tf.Tensor 'Placeholder_90:0' shape=(?,) dtype=int16>, 'acc_118': <tf.Tensor 'Placeholder_117:0' shape=(?,) dtype=int16>, 'acc_164': <tf.Tensor 'Placeholder_163:0' shape=(?,) dtype=int16>, 'acc_187': <tf.Tensor 'Placeholder_186:0' shape=(?,) dtype=int16>, 'acc_145': <tf.Tensor 'Placeholder_144:0' shape=(?,) dtype=int16>, 'acc_81': <tf.Tensor 'Placeholder_80:0' shape=(?,) dtype=int16>, 'acc_165': <tf.Tensor 'Placeholder_164:0' shape=(?,) dtype=int16>, 'acc_69': <tf.Tensor 'Placeholder_68:0' shape=(?,) dtype=int16>, 'acc_63': <tf.Tensor 'Placeholder_62:0' shape=(?,) dtype=int16>, 'acc_53': <tf.Tensor 'Placeholder_52:0' shape=(?,) dtype=int16>, 'acc_168': <tf.Tensor 'Placeholder_167:0' shape=(?,) dtype=int16>, 'acc_71': <tf.Tensor 'Placeholder_70:0' shape=(?,) dtype=int16>, 'acc_68': <tf.Tensor 'Placeholder_67:0' shape=(?,) dtype=int16>, 'acc_57': <tf.Tensor 'Placeholder_56:0' shape=(?,) dtype=int16>, 'acc_128': <tf.Tensor 'Placeholder_127:0' shape=(?,) dtype=int16>, 'acc_19': <tf.Tensor 'Placeholder_18:0' shape=(?,) dtype=int16>, 'acc_110': <tf.Tensor 'Placeholder_109:0' shape=(?,) dtype=int16>, 'acc_196': <tf.Tensor 'Placeholder_195:0' shape=(?,) dtype=int16>, 'acc_126': <tf.Tensor 'Placeholder_125:0' shape=(?,) dtype=int16>, 'acc_1': <tf.Tensor 'Placeholder:0' shape=(?,) dtype=int16>, 'acc_153': <tf.Tensor 'Placeholder_152:0' shape=(?,) dtype=int16>, 'acc_156': <tf.Tensor 'Placeholder_155:0' shape=(?,) dtype=int16>, 'acc_114': <tf.Tensor 'Placeholder_113:0' shape=(?,) dtype=int16>, 'acc_37': <tf.Tensor 'Placeholder_36:0' shape=(?,) dtype=int16>, 'acc_166': <tf.Tensor 'Placeholder_165:0' shape=(?,) dtype=int16>, 'acc_195': <tf.Tensor 'Placeholder_194:0' shape=(?,) dtype=int16>, 'acc_155': <tf.Tensor 'Placeholder_154:0' shape=(?,) dtype=int16>, 'acc_60': <tf.Tensor 'Placeholder_59:0' shape=(?,) dtype=int16>, 'acc_136': <tf.Tensor 'Placeholder_135:0' shape=(?,) dtype=int16>, 'acc_101': <tf.Tensor 'Placeholder_100:0' shape=(?,) dtype=int16>, 'acc_11': <tf.Tensor 'Placeholder_10:0' shape=(?,) dtype=int16>, 'acc_167': <tf.Tensor 'Placeholder_166:0' shape=(?,) dtype=int16>, 'acc_147': <tf.Tensor 'Placeholder_146:0' shape=(?,) dtype=int16>, 'acc_115': <tf.Tensor 'Placeholder_114:0' shape=(?,) dtype=int16>, 'acc_79': <tf.Tensor 'Placeholder_78:0' shape=(?,) dtype=int16>, 'acc_150': <tf.Tensor 'Placeholder_149:0' shape=(?,) dtype=int16>, 'acc_197': <tf.Tensor 'Placeholder_196:0' shape=(?,) dtype=int16>, 'acc_59': <tf.Tensor 'Placeholder_58:0' shape=(?,) dtype=int16>, 'acc_43': <tf.Tensor 'Placeholder_42:0' shape=(?,) dtype=int16>, 'acc_94': <tf.Tensor 'Placeholder_93:0' shape=(?,) dtype=int16>, 'acc_5': <tf.Tensor 'Placeholder_4:0' shape=(?,) dtype=int16>, 'acc_198': <tf.Tensor 'Placeholder_197:0' shape=(?,) dtype=int16>, 'acc_96': <tf.Tensor 'Placeholder_95:0' shape=(?,) dtype=int16>, 'acc_34': <tf.Tensor 'Placeholder_33:0' shape=(?,) dtype=int16>, 'acc_161': <tf.Tensor 'Placeholder_160:0' shape=(?,) dtype=int16>, 'acc_48': <tf.Tensor 'Placeholder_47:0' shape=(?,) dtype=int16>, 'acc_40': <tf.Tensor 'Placeholder_39:0' shape=(?,) dtype=int16>, 'acc_24': <tf.Tensor 'Placeholder_23:0' shape=(?,) dtype=int16>, 'acc_55': <tf.Tensor 'Placeholder_54:0' shape=(?,) dtype=int16>, 'acc_146': <tf.Tensor 'Placeholder_145:0' shape=(?,) dtype=int16>, 'acc_159': <tf.Tensor 'Placeholder_158:0' shape=(?,) dtype=int16>, 'acc_61': <tf.Tensor 'Placeholder_60:0' shape=(?,) dtype=int16>, 'acc_8': <tf.Tensor 'Placeholder_7:0' shape=(?,) dtype=int16>, 'acc_177': <tf.Tensor 'Placeholder_176:0' shape=(?,) dtype=int16>, 'acc_137': <tf.Tensor 'Placeholder_136:0' shape=(?,) dtype=int16>, 'acc_135': <tf.Tensor 'Placeholder_134:0' shape=(?,) dtype=int16>, 'acc_6': <tf.Tensor 'Placeholder_5:0' shape=(?,) dtype=int16>, 'acc_22': <tf.Tensor 'Placeholder_21:0' shape=(?,) dtype=int16>, 'acc_140': <tf.Tensor 'Placeholder_139:0' shape=(?,) dtype=int16>, 'acc_190': <tf.Tensor 'Placeholder_189:0' shape=(?,) dtype=int16>, 'acc_29': <tf.Tensor 'Placeholder_28:0' shape=(?,) dtype=int16>, 'acc_104': <tf.Tensor 'Placeholder_103:0' shape=(?,) dtype=int16>, 'acc_2': <tf.Tensor 'Placeholder_1:0' shape=(?,) dtype=int16>, 'acc_124': <tf.Tensor 'Placeholder_123:0' shape=(?,) dtype=int16>, 'acc_102': <tf.Tensor 'Placeholder_101:0' shape=(?,) dtype=int16>, 'acc_100': <tf.Tensor 'Placeholder_99:0' shape=(?,) dtype=int16>, 'acc_3': <tf.Tensor 'Placeholder_2:0' shape=(?,) dtype=int16>, 'acc_41': <tf.Tensor 'Placeholder_40:0' shape=(?,) dtype=int16>, 'acc_10': <tf.Tensor 'Placeholder_9:0' shape=(?,) dtype=int16>, 'acc_175': <tf.Tensor 'Placeholder_174:0' shape=(?,) dtype=int16>, 'acc_131': <tf.Tensor 'Placeholder_130:0' shape=(?,) dtype=int16>, 'acc_62': <tf.Tensor 'Placeholder_61:0' shape=(?,) dtype=int16>, 'acc_127': <tf.Tensor 'Placeholder_126:0' shape=(?,) dtype=int16>, 'acc_108': <tf.Tensor 'Placeholder_107:0' shape=(?,) dtype=int16>, 'acc_122': <tf.Tensor 'Placeholder_121:0' shape=(?,) dtype=int16>, 'acc_32': <tf.Tensor 'Placeholder_31:0' shape=(?,) dtype=int16>, 'acc_105': <tf.Tensor 'Placeholder_104:0' shape=(?,) dtype=int16>, 'acc_49': <tf.Tensor 'Placeholder_48:0' shape=(?,) dtype=int16>, 'acc_162': <tf.Tensor 'Placeholder_161:0' shape=(?,) dtype=int16>, 'acc_44': <tf.Tensor 'Placeholder_43:0' shape=(?,) dtype=int16>, 'acc_75': <tf.Tensor 'Placeholder_74:0' shape=(?,) dtype=int16>, 'acc_72': <tf.Tensor 'Placeholder_71:0' shape=(?,) dtype=int16>, 'acc_17': <tf.Tensor 'Placeholder_16:0' shape=(?,) dtype=int16>, 'acc_113': <tf.Tensor 'Placeholder_112:0' shape=(?,) dtype=int16>, 'acc_12': <tf.Tensor 'Placeholder_11:0' shape=(?,) dtype=int16>, 'acc_169': <tf.Tensor 'Placeholder_168:0' shape=(?,) dtype=int16>, 'acc_116': <tf.Tensor 'Placeholder_115:0' shape=(?,) dtype=int16>, 'acc_171': <tf.Tensor 'Placeholder_170:0' shape=(?,) dtype=int16>, 'acc_163': <tf.Tensor 'Placeholder_162:0' shape=(?,) dtype=int16>, 'acc_103': <tf.Tensor 'Placeholder_102:0' shape=(?,) dtype=int16>, 'acc_141': <tf.Tensor 'Placeholder_140:0' shape=(?,) dtype=int16>, 'acc_185': <tf.Tensor 'Placeholder_184:0' shape=(?,) dtype=int16>, 'acc_65': <tf.Tensor 'Placeholder_64:0' shape=(?,) dtype=int16>, 'acc_86': <tf.Tensor 'Placeholder_85:0' shape=(?,) dtype=int16>, 'acc_93': <tf.Tensor 'Placeholder_92:0' shape=(?,) dtype=int16>, 'acc_82': <tf.Tensor 'Placeholder_81:0' shape=(?,) dtype=int16>, 'acc_85': <tf.Tensor 'Placeholder_84:0' shape=(?,) dtype=int16>, 'acc_176': <tf.Tensor 'Placeholder_175:0' shape=(?,) dtype=int16>, 'acc_149': <tf.Tensor 'Placeholder_148:0' shape=(?,) dtype=int16>, 'acc_74': <tf.Tensor 'Placeholder_73:0' shape=(?,) dtype=int16>, 'acc_144': <tf.Tensor 'Placeholder_143:0' shape=(?,) dtype=int16>, 'acc_56': <tf.Tensor 'Placeholder_55:0' shape=(?,) dtype=int16>, 'acc_106': <tf.Tensor 'Placeholder_105:0' shape=(?,) dtype=int16>, 'acc_170': <tf.Tensor 'Placeholder_169:0' shape=(?,) dtype=int16>, 'acc_157': <tf.Tensor 'Placeholder_156:0' shape=(?,) dtype=int16>, 'acc_21': <tf.Tensor 'Placeholder_20:0' shape=(?,) dtype=int16>, 'acc_192': <tf.Tensor 'Placeholder_191:0' shape=(?,) dtype=int16>, 'acc_33': <tf.Tensor 'Placeholder_32:0' shape=(?,) dtype=int16>, 'acc_109': <tf.Tensor 'Placeholder_108:0' shape=(?,) dtype=int16>, 'acc_199': <tf.Tensor 'Placeholder_198:0' shape=(?,) dtype=int16>, 'acc_125': <tf.Tensor 'Placeholder_124:0' shape=(?,) dtype=int16>, 'acc_83': <tf.Tensor 'Placeholder_82:0' shape=(?,) dtype=int16>, 'acc_26': <tf.Tensor 'Placeholder_25:0' shape=(?,) dtype=int16>, 'acc_51': <tf.Tensor 'Placeholder_50:0' shape=(?,) dtype=int16>, 'acc_13': <tf.Tensor 'Placeholder_12:0' shape=(?,) dtype=int16>, 'acc_158': <tf.Tensor 'Placeholder_157:0' shape=(?,) dtype=int16>, 'acc_154': <tf.Tensor 'Placeholder_153:0' shape=(?,) dtype=int16>, 'acc_191': <tf.Tensor 'Placeholder_190:0' shape=(?,) dtype=int16>, 'acc_89': <tf.Tensor 'Placeholder_88:0' shape=(?,) dtype=int16>, 'acc_133': <tf.Tensor 'Placeholder_132:0' shape=(?,) dtype=int16>, 'acc_31': <tf.Tensor 'Placeholder_30:0' shape=(?,) dtype=int16>, 'acc_129': <tf.Tensor 'Placeholder_128:0' shape=(?,) dtype=int16>, 'acc_18': <tf.Tensor 'Placeholder_17:0' shape=(?,) dtype=int16>, 'acc_172': <tf.Tensor 'Placeholder_171:0' shape=(?,) dtype=int16>, 'acc_120': <tf.Tensor 'Placeholder_119:0' shape=(?,) dtype=int16>, 'acc_130': <tf.Tensor 'Placeholder_129:0' shape=(?,) dtype=int16>, 'acc_134': <tf.Tensor 'Placeholder_133:0' shape=(?,) dtype=int16>, 'acc_152': <tf.Tensor 'Placeholder_151:0' shape=(?,) dtype=int16>, 'acc_9': <tf.Tensor 'Placeholder_8:0' shape=(?,) dtype=int16>, 'acc_14': <tf.Tensor 'Placeholder_13:0' shape=(?,) dtype=int16>, 'acc_46': <tf.Tensor 'Placeholder_45:0' shape=(?,) dtype=int16>, 'acc_188': <tf.Tensor 'Placeholder_187:0' shape=(?,) dtype=int16>}\n"
     ]
    },
    {
     "name": "stdout",
     "output_type": "stream",
     "text": [
      "INFO:tensorflow:'serving_default' : Classification input must be a single string Tensor; got {'acc_117': <tf.Tensor 'Placeholder_116:0' shape=(?,) dtype=int16>, 'acc_179': <tf.Tensor 'Placeholder_178:0' shape=(?,) dtype=int16>, 'acc_186': <tf.Tensor 'Placeholder_185:0' shape=(?,) dtype=int16>, 'acc_42': <tf.Tensor 'Placeholder_41:0' shape=(?,) dtype=int16>, 'acc_39': <tf.Tensor 'Placeholder_38:0' shape=(?,) dtype=int16>, 'acc_77': <tf.Tensor 'Placeholder_76:0' shape=(?,) dtype=int16>, 'acc_123': <tf.Tensor 'Placeholder_122:0' shape=(?,) dtype=int16>, 'acc_180': <tf.Tensor 'Placeholder_179:0' shape=(?,) dtype=int16>, 'acc_92': <tf.Tensor 'Placeholder_91:0' shape=(?,) dtype=int16>, 'acc_52': <tf.Tensor 'Placeholder_51:0' shape=(?,) dtype=int16>, 'acc_47': <tf.Tensor 'Placeholder_46:0' shape=(?,) dtype=int16>, 'acc_111': <tf.Tensor 'Placeholder_110:0' shape=(?,) dtype=int16>, 'acc_45': <tf.Tensor 'Placeholder_44:0' shape=(?,) dtype=int16>, 'acc_107': <tf.Tensor 'Placeholder_106:0' shape=(?,) dtype=int16>, 'acc_15': <tf.Tensor 'Placeholder_14:0' shape=(?,) dtype=int16>, 'acc_178': <tf.Tensor 'Placeholder_177:0' shape=(?,) dtype=int16>, 'acc_87': <tf.Tensor 'Placeholder_86:0' shape=(?,) dtype=int16>, 'acc_189': <tf.Tensor 'Placeholder_188:0' shape=(?,) dtype=int16>, 'acc_64': <tf.Tensor 'Placeholder_63:0' shape=(?,) dtype=int16>, 'acc_183': <tf.Tensor 'Placeholder_182:0' shape=(?,) dtype=int16>, 'acc_160': <tf.Tensor 'Placeholder_159:0' shape=(?,) dtype=int16>, 'acc_181': <tf.Tensor 'Placeholder_180:0' shape=(?,) dtype=int16>, 'acc_98': <tf.Tensor 'Placeholder_97:0' shape=(?,) dtype=int16>, 'acc_67': <tf.Tensor 'Placeholder_66:0' shape=(?,) dtype=int16>, 'acc_20': <tf.Tensor 'Placeholder_19:0' shape=(?,) dtype=int16>, 'acc_112': <tf.Tensor 'Placeholder_111:0' shape=(?,) dtype=int16>, 'acc_23': <tf.Tensor 'Placeholder_22:0' shape=(?,) dtype=int16>, 'acc_121': <tf.Tensor 'Placeholder_120:0' shape=(?,) dtype=int16>, 'acc_70': <tf.Tensor 'Placeholder_69:0' shape=(?,) dtype=int16>, 'acc_173': <tf.Tensor 'Placeholder_172:0' shape=(?,) dtype=int16>, 'acc_35': <tf.Tensor 'Placeholder_34:0' shape=(?,) dtype=int16>, 'acc_148': <tf.Tensor 'Placeholder_147:0' shape=(?,) dtype=int16>, 'acc_36': <tf.Tensor 'Placeholder_35:0' shape=(?,) dtype=int16>, 'acc_95': <tf.Tensor 'Placeholder_94:0' shape=(?,) dtype=int16>, 'acc_138': <tf.Tensor 'Placeholder_137:0' shape=(?,) dtype=int16>, 'acc_73': <tf.Tensor 'Placeholder_72:0' shape=(?,) dtype=int16>, 'acc_16': <tf.Tensor 'Placeholder_15:0' shape=(?,) dtype=int16>, 'acc_25': <tf.Tensor 'Placeholder_24:0' shape=(?,) dtype=int16>, 'acc_132': <tf.Tensor 'Placeholder_131:0' shape=(?,) dtype=int16>, 'acc_76': <tf.Tensor 'Placeholder_75:0' shape=(?,) dtype=int16>, 'acc_38': <tf.Tensor 'Placeholder_37:0' shape=(?,) dtype=int16>, 'acc_184': <tf.Tensor 'Placeholder_183:0' shape=(?,) dtype=int16>, 'acc_30': <tf.Tensor 'Placeholder_29:0' shape=(?,) dtype=int16>, 'acc_4': <tf.Tensor 'Placeholder_3:0' shape=(?,) dtype=int16>, 'acc_99': <tf.Tensor 'Placeholder_98:0' shape=(?,) dtype=int16>, 'acc_84': <tf.Tensor 'Placeholder_83:0' shape=(?,) dtype=int16>, 'acc_50': <tf.Tensor 'Placeholder_49:0' shape=(?,) dtype=int16>, 'acc_78': <tf.Tensor 'Placeholder_77:0' shape=(?,) dtype=int16>, 'acc_119': <tf.Tensor 'Placeholder_118:0' shape=(?,) dtype=int16>, 'acc_182': <tf.Tensor 'Placeholder_181:0' shape=(?,) dtype=int16>, 'acc_90': <tf.Tensor 'Placeholder_89:0' shape=(?,) dtype=int16>, 'acc_88': <tf.Tensor 'Placeholder_87:0' shape=(?,) dtype=int16>, 'acc_28': <tf.Tensor 'Placeholder_27:0' shape=(?,) dtype=int16>, 'acc_7': <tf.Tensor 'Placeholder_6:0' shape=(?,) dtype=int16>, 'acc_80': <tf.Tensor 'Placeholder_79:0' shape=(?,) dtype=int16>, 'acc_97': <tf.Tensor 'Placeholder_96:0' shape=(?,) dtype=int16>, 'acc_54': <tf.Tensor 'Placeholder_53:0' shape=(?,) dtype=int16>, 'acc_193': <tf.Tensor 'Placeholder_192:0' shape=(?,) dtype=int16>, 'acc_27': <tf.Tensor 'Placeholder_26:0' shape=(?,) dtype=int16>, 'acc_200': <tf.Tensor 'Placeholder_199:0' shape=(?,) dtype=int16>, 'acc_174': <tf.Tensor 'Placeholder_173:0' shape=(?,) dtype=int16>, 'acc_142': <tf.Tensor 'Placeholder_141:0' shape=(?,) dtype=int16>, 'acc_66': <tf.Tensor 'Placeholder_65:0' shape=(?,) dtype=int16>, 'acc_139': <tf.Tensor 'Placeholder_138:0' shape=(?,) dtype=int16>, 'acc_151': <tf.Tensor 'Placeholder_150:0' shape=(?,) dtype=int16>, 'acc_143': <tf.Tensor 'Placeholder_142:0' shape=(?,) dtype=int16>, 'acc_58': <tf.Tensor 'Placeholder_57:0' shape=(?,) dtype=int16>, 'acc_194': <tf.Tensor 'Placeholder_193:0' shape=(?,) dtype=int16>, 'acc_91': <tf.Tensor 'Placeholder_90:0' shape=(?,) dtype=int16>, 'acc_118': <tf.Tensor 'Placeholder_117:0' shape=(?,) dtype=int16>, 'acc_164': <tf.Tensor 'Placeholder_163:0' shape=(?,) dtype=int16>, 'acc_187': <tf.Tensor 'Placeholder_186:0' shape=(?,) dtype=int16>, 'acc_145': <tf.Tensor 'Placeholder_144:0' shape=(?,) dtype=int16>, 'acc_81': <tf.Tensor 'Placeholder_80:0' shape=(?,) dtype=int16>, 'acc_165': <tf.Tensor 'Placeholder_164:0' shape=(?,) dtype=int16>, 'acc_69': <tf.Tensor 'Placeholder_68:0' shape=(?,) dtype=int16>, 'acc_63': <tf.Tensor 'Placeholder_62:0' shape=(?,) dtype=int16>, 'acc_53': <tf.Tensor 'Placeholder_52:0' shape=(?,) dtype=int16>, 'acc_168': <tf.Tensor 'Placeholder_167:0' shape=(?,) dtype=int16>, 'acc_71': <tf.Tensor 'Placeholder_70:0' shape=(?,) dtype=int16>, 'acc_68': <tf.Tensor 'Placeholder_67:0' shape=(?,) dtype=int16>, 'acc_57': <tf.Tensor 'Placeholder_56:0' shape=(?,) dtype=int16>, 'acc_128': <tf.Tensor 'Placeholder_127:0' shape=(?,) dtype=int16>, 'acc_19': <tf.Tensor 'Placeholder_18:0' shape=(?,) dtype=int16>, 'acc_110': <tf.Tensor 'Placeholder_109:0' shape=(?,) dtype=int16>, 'acc_196': <tf.Tensor 'Placeholder_195:0' shape=(?,) dtype=int16>, 'acc_126': <tf.Tensor 'Placeholder_125:0' shape=(?,) dtype=int16>, 'acc_1': <tf.Tensor 'Placeholder:0' shape=(?,) dtype=int16>, 'acc_153': <tf.Tensor 'Placeholder_152:0' shape=(?,) dtype=int16>, 'acc_156': <tf.Tensor 'Placeholder_155:0' shape=(?,) dtype=int16>, 'acc_114': <tf.Tensor 'Placeholder_113:0' shape=(?,) dtype=int16>, 'acc_37': <tf.Tensor 'Placeholder_36:0' shape=(?,) dtype=int16>, 'acc_166': <tf.Tensor 'Placeholder_165:0' shape=(?,) dtype=int16>, 'acc_195': <tf.Tensor 'Placeholder_194:0' shape=(?,) dtype=int16>, 'acc_155': <tf.Tensor 'Placeholder_154:0' shape=(?,) dtype=int16>, 'acc_60': <tf.Tensor 'Placeholder_59:0' shape=(?,) dtype=int16>, 'acc_136': <tf.Tensor 'Placeholder_135:0' shape=(?,) dtype=int16>, 'acc_101': <tf.Tensor 'Placeholder_100:0' shape=(?,) dtype=int16>, 'acc_11': <tf.Tensor 'Placeholder_10:0' shape=(?,) dtype=int16>, 'acc_167': <tf.Tensor 'Placeholder_166:0' shape=(?,) dtype=int16>, 'acc_147': <tf.Tensor 'Placeholder_146:0' shape=(?,) dtype=int16>, 'acc_115': <tf.Tensor 'Placeholder_114:0' shape=(?,) dtype=int16>, 'acc_79': <tf.Tensor 'Placeholder_78:0' shape=(?,) dtype=int16>, 'acc_150': <tf.Tensor 'Placeholder_149:0' shape=(?,) dtype=int16>, 'acc_197': <tf.Tensor 'Placeholder_196:0' shape=(?,) dtype=int16>, 'acc_59': <tf.Tensor 'Placeholder_58:0' shape=(?,) dtype=int16>, 'acc_43': <tf.Tensor 'Placeholder_42:0' shape=(?,) dtype=int16>, 'acc_94': <tf.Tensor 'Placeholder_93:0' shape=(?,) dtype=int16>, 'acc_5': <tf.Tensor 'Placeholder_4:0' shape=(?,) dtype=int16>, 'acc_198': <tf.Tensor 'Placeholder_197:0' shape=(?,) dtype=int16>, 'acc_96': <tf.Tensor 'Placeholder_95:0' shape=(?,) dtype=int16>, 'acc_34': <tf.Tensor 'Placeholder_33:0' shape=(?,) dtype=int16>, 'acc_161': <tf.Tensor 'Placeholder_160:0' shape=(?,) dtype=int16>, 'acc_48': <tf.Tensor 'Placeholder_47:0' shape=(?,) dtype=int16>, 'acc_40': <tf.Tensor 'Placeholder_39:0' shape=(?,) dtype=int16>, 'acc_24': <tf.Tensor 'Placeholder_23:0' shape=(?,) dtype=int16>, 'acc_55': <tf.Tensor 'Placeholder_54:0' shape=(?,) dtype=int16>, 'acc_146': <tf.Tensor 'Placeholder_145:0' shape=(?,) dtype=int16>, 'acc_159': <tf.Tensor 'Placeholder_158:0' shape=(?,) dtype=int16>, 'acc_61': <tf.Tensor 'Placeholder_60:0' shape=(?,) dtype=int16>, 'acc_8': <tf.Tensor 'Placeholder_7:0' shape=(?,) dtype=int16>, 'acc_177': <tf.Tensor 'Placeholder_176:0' shape=(?,) dtype=int16>, 'acc_137': <tf.Tensor 'Placeholder_136:0' shape=(?,) dtype=int16>, 'acc_135': <tf.Tensor 'Placeholder_134:0' shape=(?,) dtype=int16>, 'acc_6': <tf.Tensor 'Placeholder_5:0' shape=(?,) dtype=int16>, 'acc_22': <tf.Tensor 'Placeholder_21:0' shape=(?,) dtype=int16>, 'acc_140': <tf.Tensor 'Placeholder_139:0' shape=(?,) dtype=int16>, 'acc_190': <tf.Tensor 'Placeholder_189:0' shape=(?,) dtype=int16>, 'acc_29': <tf.Tensor 'Placeholder_28:0' shape=(?,) dtype=int16>, 'acc_104': <tf.Tensor 'Placeholder_103:0' shape=(?,) dtype=int16>, 'acc_2': <tf.Tensor 'Placeholder_1:0' shape=(?,) dtype=int16>, 'acc_124': <tf.Tensor 'Placeholder_123:0' shape=(?,) dtype=int16>, 'acc_102': <tf.Tensor 'Placeholder_101:0' shape=(?,) dtype=int16>, 'acc_100': <tf.Tensor 'Placeholder_99:0' shape=(?,) dtype=int16>, 'acc_3': <tf.Tensor 'Placeholder_2:0' shape=(?,) dtype=int16>, 'acc_41': <tf.Tensor 'Placeholder_40:0' shape=(?,) dtype=int16>, 'acc_10': <tf.Tensor 'Placeholder_9:0' shape=(?,) dtype=int16>, 'acc_175': <tf.Tensor 'Placeholder_174:0' shape=(?,) dtype=int16>, 'acc_131': <tf.Tensor 'Placeholder_130:0' shape=(?,) dtype=int16>, 'acc_62': <tf.Tensor 'Placeholder_61:0' shape=(?,) dtype=int16>, 'acc_127': <tf.Tensor 'Placeholder_126:0' shape=(?,) dtype=int16>, 'acc_108': <tf.Tensor 'Placeholder_107:0' shape=(?,) dtype=int16>, 'acc_122': <tf.Tensor 'Placeholder_121:0' shape=(?,) dtype=int16>, 'acc_32': <tf.Tensor 'Placeholder_31:0' shape=(?,) dtype=int16>, 'acc_105': <tf.Tensor 'Placeholder_104:0' shape=(?,) dtype=int16>, 'acc_49': <tf.Tensor 'Placeholder_48:0' shape=(?,) dtype=int16>, 'acc_162': <tf.Tensor 'Placeholder_161:0' shape=(?,) dtype=int16>, 'acc_44': <tf.Tensor 'Placeholder_43:0' shape=(?,) dtype=int16>, 'acc_75': <tf.Tensor 'Placeholder_74:0' shape=(?,) dtype=int16>, 'acc_72': <tf.Tensor 'Placeholder_71:0' shape=(?,) dtype=int16>, 'acc_17': <tf.Tensor 'Placeholder_16:0' shape=(?,) dtype=int16>, 'acc_113': <tf.Tensor 'Placeholder_112:0' shape=(?,) dtype=int16>, 'acc_12': <tf.Tensor 'Placeholder_11:0' shape=(?,) dtype=int16>, 'acc_169': <tf.Tensor 'Placeholder_168:0' shape=(?,) dtype=int16>, 'acc_116': <tf.Tensor 'Placeholder_115:0' shape=(?,) dtype=int16>, 'acc_171': <tf.Tensor 'Placeholder_170:0' shape=(?,) dtype=int16>, 'acc_163': <tf.Tensor 'Placeholder_162:0' shape=(?,) dtype=int16>, 'acc_103': <tf.Tensor 'Placeholder_102:0' shape=(?,) dtype=int16>, 'acc_141': <tf.Tensor 'Placeholder_140:0' shape=(?,) dtype=int16>, 'acc_185': <tf.Tensor 'Placeholder_184:0' shape=(?,) dtype=int16>, 'acc_65': <tf.Tensor 'Placeholder_64:0' shape=(?,) dtype=int16>, 'acc_86': <tf.Tensor 'Placeholder_85:0' shape=(?,) dtype=int16>, 'acc_93': <tf.Tensor 'Placeholder_92:0' shape=(?,) dtype=int16>, 'acc_82': <tf.Tensor 'Placeholder_81:0' shape=(?,) dtype=int16>, 'acc_85': <tf.Tensor 'Placeholder_84:0' shape=(?,) dtype=int16>, 'acc_176': <tf.Tensor 'Placeholder_175:0' shape=(?,) dtype=int16>, 'acc_149': <tf.Tensor 'Placeholder_148:0' shape=(?,) dtype=int16>, 'acc_74': <tf.Tensor 'Placeholder_73:0' shape=(?,) dtype=int16>, 'acc_144': <tf.Tensor 'Placeholder_143:0' shape=(?,) dtype=int16>, 'acc_56': <tf.Tensor 'Placeholder_55:0' shape=(?,) dtype=int16>, 'acc_106': <tf.Tensor 'Placeholder_105:0' shape=(?,) dtype=int16>, 'acc_170': <tf.Tensor 'Placeholder_169:0' shape=(?,) dtype=int16>, 'acc_157': <tf.Tensor 'Placeholder_156:0' shape=(?,) dtype=int16>, 'acc_21': <tf.Tensor 'Placeholder_20:0' shape=(?,) dtype=int16>, 'acc_192': <tf.Tensor 'Placeholder_191:0' shape=(?,) dtype=int16>, 'acc_33': <tf.Tensor 'Placeholder_32:0' shape=(?,) dtype=int16>, 'acc_109': <tf.Tensor 'Placeholder_108:0' shape=(?,) dtype=int16>, 'acc_199': <tf.Tensor 'Placeholder_198:0' shape=(?,) dtype=int16>, 'acc_125': <tf.Tensor 'Placeholder_124:0' shape=(?,) dtype=int16>, 'acc_83': <tf.Tensor 'Placeholder_82:0' shape=(?,) dtype=int16>, 'acc_26': <tf.Tensor 'Placeholder_25:0' shape=(?,) dtype=int16>, 'acc_51': <tf.Tensor 'Placeholder_50:0' shape=(?,) dtype=int16>, 'acc_13': <tf.Tensor 'Placeholder_12:0' shape=(?,) dtype=int16>, 'acc_158': <tf.Tensor 'Placeholder_157:0' shape=(?,) dtype=int16>, 'acc_154': <tf.Tensor 'Placeholder_153:0' shape=(?,) dtype=int16>, 'acc_191': <tf.Tensor 'Placeholder_190:0' shape=(?,) dtype=int16>, 'acc_89': <tf.Tensor 'Placeholder_88:0' shape=(?,) dtype=int16>, 'acc_133': <tf.Tensor 'Placeholder_132:0' shape=(?,) dtype=int16>, 'acc_31': <tf.Tensor 'Placeholder_30:0' shape=(?,) dtype=int16>, 'acc_129': <tf.Tensor 'Placeholder_128:0' shape=(?,) dtype=int16>, 'acc_18': <tf.Tensor 'Placeholder_17:0' shape=(?,) dtype=int16>, 'acc_172': <tf.Tensor 'Placeholder_171:0' shape=(?,) dtype=int16>, 'acc_120': <tf.Tensor 'Placeholder_119:0' shape=(?,) dtype=int16>, 'acc_130': <tf.Tensor 'Placeholder_129:0' shape=(?,) dtype=int16>, 'acc_134': <tf.Tensor 'Placeholder_133:0' shape=(?,) dtype=int16>, 'acc_152': <tf.Tensor 'Placeholder_151:0' shape=(?,) dtype=int16>, 'acc_9': <tf.Tensor 'Placeholder_8:0' shape=(?,) dtype=int16>, 'acc_14': <tf.Tensor 'Placeholder_13:0' shape=(?,) dtype=int16>, 'acc_46': <tf.Tensor 'Placeholder_45:0' shape=(?,) dtype=int16>, 'acc_188': <tf.Tensor 'Placeholder_187:0' shape=(?,) dtype=int16>}\n"
     ]
    },
    {
     "name": "stdout",
     "output_type": "stream",
     "text": [
      "WARNING:tensorflow:Export includes no default signature!\n",
      "INFO:tensorflow:Restoring parameters from acc_trained/model.ckpt-35000\n",
      "WARNING:tensorflow:From /usr/local/lib/python3.5/dist-packages/tensorflow_estimator/python/estimator/estimator.py:1020: calling SavedModelBuilder.add_meta_graph_and_variables (from tensorflow.python.saved_model.builder_impl) with legacy_init_op is deprecated and will be removed in a future version.\n",
      "Instructions for updating:\n",
      "Pass your op to the equivalent parameter main_op instead.\n",
      "INFO:tensorflow:Assets added to graph.\n",
      "INFO:tensorflow:No assets to write.\n",
      "INFO:tensorflow:SavedModel written to: ./acc_trained_exp/temp-b'1541390584'/saved_model.pb\n"
     ]
    },
    {
     "data": {
      "text/plain": [
       "b'./acc_trained_exp/1541390584'"
      ]
     },
     "execution_count": 42,
     "metadata": {},
     "output_type": "execute_result"
    }
   ],
   "source": [
    "def json_serving_input_fn():\n",
    "  \"\"\"Build the serving inputs.\"\"\"\n",
    "  inputs = {}\n",
    "  for feat in FEATURES_LABELS:\n",
    "    inputs[feat] = tf.placeholder(shape=[None], dtype=np.int16)\n",
    "\n",
    "  return tf.estimator.export.ServingInputReceiver(inputs, inputs)\n",
    "\n",
    "model.export_savedmodel(export_dir_base='./acc_trained_exp', serving_input_receiver_fn=json_serving_input_fn, strip_default_attrs=True)"
   ]
  },
  {
   "cell_type": "markdown",
   "metadata": {
    "colab_type": "text",
    "id": "c6K86SLevuHN"
   },
   "source": [
    "<h2> Benchmark dataset </h2>\n",
    "\n",
    "Let's do this on the benchmark dataset."
   ]
  },
  {
   "cell_type": "code",
   "execution_count": 113,
   "metadata": {
    "scrolled": false
   },
   "outputs": [
    {
     "name": "stdout",
     "output_type": "stream",
     "text": [
      "<generator object predict at 0x7f6a36ce9cd0>\n",
      "0     4\n",
      "1     1\n",
      "2     6\n",
      "3     9\n",
      "4     7\n",
      "5     2\n",
      "6     6\n",
      "7     0\n",
      "8     3\n",
      "9     9\n",
      "10    9\n",
      "11    7\n",
      "12    5\n",
      "13    5\n",
      "14    2\n",
      "15    1\n",
      "16    5\n",
      "17    6\n",
      "18    4\n",
      "19    3\n",
      "20    3\n",
      "21    2\n",
      "22    2\n",
      "23    9\n",
      "24    9\n",
      "25    1\n",
      "26    0\n",
      "27    8\n",
      "28    5\n",
      "29    4\n",
      "     ..\n",
      "45    6\n",
      "46    0\n",
      "47    5\n",
      "48    7\n",
      "49    8\n",
      "50    4\n",
      "51    4\n",
      "52    6\n",
      "53    6\n",
      "54    5\n",
      "55    4\n",
      "56    5\n",
      "57    2\n",
      "58    5\n",
      "59    5\n",
      "60    8\n",
      "61    8\n",
      "62    3\n",
      "63    8\n",
      "64    5\n",
      "65    5\n",
      "66    7\n",
      "67    7\n",
      "68    2\n",
      "69    2\n",
      "70    7\n",
      "71    7\n",
      "72    3\n",
      "73    7\n",
      "74    6\n",
      "Name: number, Length: 75, dtype: int64\n",
      "INFO:tensorflow:Calling model_fn.\n",
      "INFO:tensorflow:Done calling model_fn.\n",
      "INFO:tensorflow:Graph was finalized.\n",
      "INFO:tensorflow:Restoring parameters from acc_trained/model.ckpt-35000\n",
      "INFO:tensorflow:Running local_init_op.\n",
      "INFO:tensorflow:Done running local_init_op.\n",
      "\n",
      "Prediction is \"4\" (100.0%), expected \"4\"\n",
      "\n",
      "Prediction is \"1\" (100.0%), expected \"1\"\n",
      "\n",
      "Prediction is \"6\" (100.0%), expected \"6\"\n",
      "\n",
      "Prediction is \"9\" (100.0%), expected \"9\"\n",
      "\n",
      "Prediction is \"7\" (100.0%), expected \"7\"\n",
      "\n",
      "Prediction is \"2\" (100.0%), expected \"2\"\n",
      "\n",
      "Prediction is \"6\" (100.0%), expected \"6\"\n",
      "\n",
      "Prediction is \"0\" (100.0%), expected \"0\"\n",
      "\n",
      "Prediction is \"3\" (100.0%), expected \"3\"\n",
      "\n",
      "Prediction is \"9\" (100.0%), expected \"9\"\n",
      "\n",
      "Prediction is \"9\" (100.0%), expected \"9\"\n",
      "\n",
      "Prediction is \"7\" (100.0%), expected \"7\"\n",
      "\n",
      "Prediction is \"5\" (100.0%), expected \"5\"\n",
      "\n",
      "Prediction is \"5\" (100.0%), expected \"5\"\n",
      "\n",
      "Prediction is \"2\" (100.0%), expected \"2\"\n",
      "\n",
      "Prediction is \"1\" (100.0%), expected \"1\"\n",
      "\n",
      "Prediction is \"5\" (100.0%), expected \"5\"\n",
      "\n",
      "Prediction is \"6\" (100.0%), expected \"6\"\n",
      "\n",
      "Prediction is \"4\" (100.0%), expected \"4\"\n",
      "\n",
      "Prediction is \"3\" (100.0%), expected \"3\"\n",
      "\n",
      "Prediction is \"3\" (100.0%), expected \"3\"\n",
      "\n",
      "Prediction is \"2\" (100.0%), expected \"2\"\n",
      "\n",
      "Prediction is \"2\" (100.0%), expected \"2\"\n",
      "\n",
      "Prediction is \"9\" (100.0%), expected \"9\"\n",
      "\n",
      "Prediction is \"9\" (100.0%), expected \"9\"\n",
      "\n",
      "Prediction is \"1\" (100.0%), expected \"1\"\n",
      "\n",
      "Prediction is \"0\" (100.0%), expected \"0\"\n",
      "\n",
      "Prediction is \"8\" (100.0%), expected \"8\"\n",
      "\n",
      "Prediction is \"5\" (100.0%), expected \"5\"\n",
      "\n",
      "Prediction is \"4\" (100.0%), expected \"4\"\n",
      "\n",
      "Prediction is \"9\" (100.0%), expected \"9\"\n",
      "\n",
      "Prediction is \"7\" (100.0%), expected \"7\"\n",
      "\n",
      "Prediction is \"3\" (100.0%), expected \"3\"\n",
      "\n",
      "Prediction is \"2\" (100.0%), expected \"2\"\n",
      "\n",
      "Prediction is \"0\" (100.0%), expected \"0\"\n",
      "\n",
      "Prediction is \"6\" (100.0%), expected \"6\"\n",
      "\n",
      "Prediction is \"0\" (100.0%), expected \"0\"\n",
      "\n",
      "Prediction is \"1\" (100.0%), expected \"1\"\n",
      "\n",
      "Prediction is \"1\" (100.0%), expected \"1\"\n",
      "\n",
      "Prediction is \"6\" (100.0%), expected \"6\"\n",
      "\n",
      "Prediction is \"1\" (100.0%), expected \"1\"\n",
      "\n",
      "Prediction is \"1\" (100.0%), expected \"1\"\n",
      "\n",
      "Prediction is \"6\" (100.0%), expected \"6\"\n",
      "\n",
      "Prediction is \"1\" (100.0%), expected \"1\"\n",
      "\n",
      "Prediction is \"9\" (100.0%), expected \"9\"\n",
      "\n",
      "Prediction is \"6\" (100.0%), expected \"6\"\n",
      "\n",
      "Prediction is \"0\" (100.0%), expected \"0\"\n",
      "\n",
      "Prediction is \"5\" (100.0%), expected \"5\"\n",
      "\n",
      "Prediction is \"7\" (100.0%), expected \"7\"\n",
      "\n",
      "Prediction is \"8\" (100.0%), expected \"8\"\n",
      "\n",
      "Prediction is \"4\" (100.0%), expected \"4\"\n",
      "\n",
      "Prediction is \"4\" (100.0%), expected \"4\"\n",
      "\n",
      "Prediction is \"6\" (100.0%), expected \"6\"\n",
      "\n",
      "Prediction is \"6\" (100.0%), expected \"6\"\n",
      "\n",
      "Prediction is \"5\" (100.0%), expected \"5\"\n",
      "\n",
      "Prediction is \"4\" (100.0%), expected \"4\"\n",
      "\n",
      "Prediction is \"5\" (100.0%), expected \"5\"\n",
      "\n",
      "Prediction is \"2\" (100.0%), expected \"2\"\n",
      "\n",
      "Prediction is \"5\" (100.0%), expected \"5\"\n",
      "\n",
      "Prediction is \"5\" (100.0%), expected \"5\"\n",
      "\n",
      "Prediction is \"8\" (100.0%), expected \"8\"\n",
      "\n",
      "Prediction is \"8\" (100.0%), expected \"8\"\n",
      "\n",
      "Prediction is \"3\" (100.0%), expected \"3\"\n",
      "\n",
      "Prediction is \"8\" (100.0%), expected \"8\"\n",
      "\n",
      "Prediction is \"5\" (100.0%), expected \"5\"\n",
      "\n",
      "Prediction is \"5\" (100.0%), expected \"5\"\n",
      "\n",
      "Prediction is \"7\" (100.0%), expected \"7\"\n",
      "\n",
      "Prediction is \"7\" (100.0%), expected \"7\"\n",
      "\n",
      "Prediction is \"2\" (100.0%), expected \"2\"\n",
      "\n",
      "Prediction is \"2\" (100.0%), expected \"2\"\n",
      "\n",
      "Prediction is \"7\" (100.0%), expected \"7\"\n",
      "\n",
      "Prediction is \"7\" (100.0%), expected \"7\"\n",
      "\n",
      "Prediction is \"3\" (100.0%), expected \"3\"\n",
      "\n",
      "Prediction is \"7\" (100.0%), expected \"7\"\n",
      "\n",
      "Prediction is \"6\" (100.0%), expected \"6\"\n"
     ]
    }
   ],
   "source": [
    "def predict_input_fn(data_file):\n",
    "    \"\"\" global CSV_COLUMNS\n",
    "        CSV_COLUMNS = CSV_COLUMNS[:-1]\n",
    "        df_data = pd.read_csv(\n",
    "            tf.gfile.Open(data_file),\n",
    "            names=CSV_COLUMNS,\n",
    "            skipinitialspace=True,\n",
    "            engine='python',\n",
    "            skiprows=1\n",
    "        )\n",
    "\n",
    "        # remove NaN elements\n",
    "        df_data = df_data.dropna(how='any', axis=0)\n",
    "    \"\"\"\n",
    "    return tf.estimator.inputs.pandas_input_fn(\n",
    "        x=df_test_labeled,\n",
    "        num_epochs=1,\n",
    "       shuffle=False\n",
    "    )\n",
    "results = model.predict(\n",
    "        input_fn=predict_input_fn('acc-test_labeled.csv')\n",
    ")\n",
    "print(results)\n",
    "#for result in results:\n",
    "#    print 'result: {}'.format(result)\n",
    "    \n",
    "#print(df_test)\n",
    "\n",
    "categories = [0, 1, 2 ,3 ,4 ,5 ,6, 7, 8 ,9]\n",
    "expected = df_test_labeled[LABEL]\n",
    "print(expected)\n",
    "\n",
    "template = ('\\nPrediction is \"{}\" ({:.1f}%), expected \"{}\"')\n",
    "\n",
    "for pred_dict, expec in zip(results, expected):\n",
    "    class_id = pred_dict['class_ids'][0]\n",
    "    probability = pred_dict['probabilities'][class_id]\n",
    "    print(template.format(categories[class_id],\n",
    "                          100 * probability, expec))\n"
   ]
  },
  {
   "cell_type": "code",
   "execution_count": null,
   "metadata": {
    "colab": {},
    "colab_type": "code",
    "id": "F_QoD6lbvuHP"
   },
   "outputs": [],
   "source": [
    "import datalab.bigquery as bq\n",
    "import numpy as np\n",
    "import pandas as pd\n",
    "\n",
    "def create_query(phase, EVERY_N):\n",
    "  \"\"\"\n",
    "  phase: 1 = train 2 = valid\n",
    "  \"\"\"\n",
    "  base_query = \"\"\"\n",
    "SELECT\n",
    "  (tolls_amount + fare_amount) AS fare_amount,\n",
    "  CONCAT(STRING(pickup_datetime), STRING(pickup_longitude), STRING(pickup_latitude), STRING(dropoff_latitude), STRING(dropoff_longitude)) AS key,\n",
    "  DAYOFWEEK(pickup_datetime)*1.0 AS dayofweek,\n",
    "  HOUR(pickup_datetime)*1.0 AS hourofday,\n",
    "  pickup_longitude AS pickuplon,\n",
    "  pickup_latitude AS pickuplat,\n",
    "  dropoff_longitude AS dropofflon,\n",
    "  dropoff_latitude AS dropofflat,\n",
    "  passenger_count*1.0 AS passengers,\n",
    "FROM\n",
    "  [nyc-tlc:yellow.trips]\n",
    "WHERE\n",
    "  trip_distance > 0\n",
    "  AND fare_amount >= 2.5\n",
    "  AND pickup_longitude > -78\n",
    "  AND pickup_longitude < -70\n",
    "  AND dropoff_longitude > -78\n",
    "  AND dropoff_longitude < -70\n",
    "  AND pickup_latitude > 37\n",
    "  AND pickup_latitude < 45\n",
    "  AND dropoff_latitude > 37\n",
    "  AND dropoff_latitude < 45\n",
    "  AND passenger_count > 0\n",
    "  \"\"\"\n",
    "\n",
    "  if EVERY_N == None:\n",
    "    if phase < 2:\n",
    "      # Training\n",
    "      query = \"{0} AND ABS(HASH(pickup_datetime)) % 4 < 2\".format(base_query)\n",
    "    else:\n",
    "      # Validation\n",
    "      query = \"{0} AND ABS(HASH(pickup_datetime)) % 4 == {1}\".format(base_query, phase)\n",
    "  else:\n",
    "    query = \"{0} AND ABS(HASH(pickup_datetime)) % {1} == {2}\".format(base_query, EVERY_N, phase)\n",
    "    \n",
    "  return query\n",
    "\n",
    "query = create_query(2, 100000)\n",
    "df = bq.Query(query).to_dataframe()"
   ]
  },
  {
   "cell_type": "code",
   "execution_count": null,
   "metadata": {
    "colab": {},
    "colab_type": "code",
    "id": "5GLUVuINvuHW"
   },
   "outputs": [],
   "source": [
    "print_rmse(model, 'benchmark', df)"
   ]
  },
  {
   "cell_type": "markdown",
   "metadata": {
    "colab_type": "text",
    "id": "LaebihMtvuHi"
   },
   "source": [
    "RMSE on benchmark dataset is <b>9.41</b> (your results will vary because of random seeds).\n",
    "\n",
    "This is not only way more than our original benchmark of 6.00, but it doesn't even beat our distance-based rule's RMSE of 8.02.\n",
    "\n",
    "Fear not -- you have learned how to write a TensorFlow model, but not to do all the things that you will have to do to your ML model performant. We will do this in the next chapters. In this chapter though, we will get our TensorFlow model ready for these improvements.\n",
    "\n",
    "In a software sense, the rest of the labs in this chapter will be about refactoring the code so that we can improve it."
   ]
  },
  {
   "cell_type": "markdown",
   "metadata": {
    "colab_type": "text",
    "id": "2mfBVpkQvuHl"
   },
   "source": [
    "Copyright 2017 Google Inc. Licensed under the Apache License, Version 2.0 (the \"License\"); you may not use this file except in compliance with the License. You may obtain a copy of the License at http://www.apache.org/licenses/LICENSE-2.0 Unless required by applicable law or agreed to in writing, software distributed under the License is distributed on an \"AS IS\" BASIS, WITHOUT WARRANTIES OR CONDITIONS OF ANY KIND, either express or implied. See the License for the specific language governing permissions and limitations under the License"
   ]
  },
  {
   "cell_type": "code",
   "execution_count": null,
   "metadata": {},
   "outputs": [],
   "source": []
  },
  {
   "cell_type": "code",
   "execution_count": null,
   "metadata": {},
   "outputs": [],
   "source": []
  },
  {
   "cell_type": "code",
   "execution_count": null,
   "metadata": {},
   "outputs": [],
   "source": []
  },
  {
   "cell_type": "code",
   "execution_count": null,
   "metadata": {},
   "outputs": [],
   "source": []
  },
  {
   "cell_type": "code",
   "execution_count": null,
   "metadata": {},
   "outputs": [],
   "source": []
  },
  {
   "cell_type": "code",
   "execution_count": null,
   "metadata": {},
   "outputs": [],
   "source": []
  },
  {
   "cell_type": "code",
   "execution_count": null,
   "metadata": {},
   "outputs": [],
   "source": []
  },
  {
   "cell_type": "code",
   "execution_count": null,
   "metadata": {},
   "outputs": [],
   "source": []
  },
  {
   "cell_type": "code",
   "execution_count": null,
   "metadata": {},
   "outputs": [],
   "source": []
  },
  {
   "cell_type": "code",
   "execution_count": null,
   "metadata": {},
   "outputs": [],
   "source": []
  }
 ],
 "metadata": {
  "colab": {
   "name": "b_estimator.ipynb",
   "provenance": [],
   "version": "0.3.2"
  },
  "kernelspec": {
   "display_name": "Python 3",
   "language": "python",
   "name": "python3"
  },
  "language_info": {
   "codemirror_mode": {
    "name": "ipython",
    "version": 3
   },
   "file_extension": ".py",
   "mimetype": "text/x-python",
   "name": "python",
   "nbconvert_exporter": "python",
   "pygments_lexer": "ipython3",
   "version": "3.5.2"
  }
 },
 "nbformat": 4,
 "nbformat_minor": 1
}
